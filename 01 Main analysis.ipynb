{
 "cells": [
  {
   "cell_type": "code",
   "execution_count": 1,
   "metadata": {},
   "outputs": [
    {
     "name": "stderr",
     "output_type": "stream",
     "text": [
      "IProgress not found. Please update jupyter and ipywidgets. See https://ipywidgets.readthedocs.io/en/stable/user_install.html\n"
     ]
    }
   ],
   "source": [
    "import pandas as pd\n",
    "import numpy as np\n",
    "import sys\n",
    "\n",
    "\n",
    "from sklearn.model_selection import train_test_split\n",
    "\n",
    "# Import package of model\n",
    "import xgboost as xgb\n",
    "from sklearn.tree import DecisionTreeRegressor\n",
    "from sklearn.neighbors import KNeighborsRegressor\n",
    "from sklearn import linear_model\n",
    "from sklearn.ensemble import RandomForestRegressor\n",
    "from sklearn.svm import SVR\n",
    "from sklearn.neural_network import MLPRegressor\n",
    "\n",
    "from sklearn.ensemble import RandomForestRegressor\n",
    "\n",
    "# Import package of measurement\n",
    "from sklearn.metrics import r2_score\n",
    "\n",
    "# Pre-processing data\n",
    "from sklearn.pipeline import make_pipeline\n",
    "from sklearn.preprocessing import StandardScaler\n",
    "\n",
    "from sklearn.model_selection import cross_val_predict, cross_val_score"
   ]
  },
  {
   "cell_type": "code",
   "execution_count": 2,
   "metadata": {},
   "outputs": [],
   "source": [
    "data_impute = pd.read_csv('D:\\\\EIS-Storage\\\\01 OneDrive-University of Utah\\\\OneDrive - University of Utah\\\\EIA-Research\\\\2023-04 SEL_ML_HLM_PISA2018\\\\HK\\\\01 Data\\\\2-after imputation.csv')"
   ]
  },
  {
   "attachments": {},
   "cell_type": "markdown",
   "metadata": {},
   "source": [
    "Model comparison"
   ]
  },
  {
   "cell_type": "code",
   "execution_count": 3,
   "metadata": {},
   "outputs": [],
   "source": [
    "data_impute.drop(columns = ['HISEI', 'PAREDINT', 'HOMEPOS', 'Grade_789','GENDER', 'AGE'], inplace = True)"
   ]
  },
  {
   "cell_type": "code",
   "execution_count": 4,
   "metadata": {},
   "outputs": [
    {
     "name": "stdout",
     "output_type": "stream",
     "text": [
      "Responsible_decsion_making BayesianRidge() 0.12922805525427294\n",
      "Responsible_decsion_making DecisionTreeRegressor(random_state=0) -0.6925855174907665\n",
      "Responsible_decsion_making KNeighborsRegressor() 0.03236371951270545\n",
      "Responsible_decsion_making RandomForestRegressor(random_state=0) 0.1348946839421331\n",
      "Responsible_decsion_making SVR() 0.06640082941458725\n",
      "Responsible_decsion_making XGBRegressor(base_score=None, booster=None, callbacks=None,\n",
      "             colsample_bylevel=None, colsample_bynode=None,\n",
      "             colsample_bytree=None, device=None, early_stopping_rounds=None,\n",
      "             enable_categorical=False, eval_metric=None, feature_types=None,\n",
      "             gamma=None, grow_policy=None, importance_type=None,\n",
      "             interaction_constraints=None, learning_rate=None, max_bin=None,\n",
      "             max_cat_threshold=None, max_cat_to_onehot=None,\n",
      "             max_delta_step=None, max_depth=None, max_leaves=None,\n",
      "             min_child_weight=None, missing=nan, monotone_constraints=None,\n",
      "             multi_strategy=None, n_estimators=None, n_jobs=None,\n",
      "             num_parallel_tree=None, random_state=0, ...) 0.004205880058392841\n"
     ]
    },
    {
     "name": "stderr",
     "output_type": "stream",
     "text": [
      "Stochastic Optimizer: Maximum iterations (200) reached and the optimization hasn't converged yet.\n"
     ]
    },
    {
     "name": "stdout",
     "output_type": "stream",
     "text": [
      "Responsible_decsion_making MLPRegressor(random_state=0) -0.021557788446976422\n",
      "Self_management BayesianRidge() 0.13955097075583323\n",
      "Self_management DecisionTreeRegressor(random_state=0) -0.7606981884040216\n",
      "Self_management KNeighborsRegressor() 0.02489159042308664\n",
      "Self_management RandomForestRegressor(random_state=0) 0.17268304596840134\n",
      "Self_management SVR() 0.1161368999604444\n",
      "Self_management XGBRegressor(base_score=None, booster=None, callbacks=None,\n",
      "             colsample_bylevel=None, colsample_bynode=None,\n",
      "             colsample_bytree=None, device=None, early_stopping_rounds=None,\n",
      "             enable_categorical=False, eval_metric=None, feature_types=None,\n",
      "             gamma=None, grow_policy=None, importance_type=None,\n",
      "             interaction_constraints=None, learning_rate=None, max_bin=None,\n",
      "             max_cat_threshold=None, max_cat_to_onehot=None,\n",
      "             max_delta_step=None, max_depth=None, max_leaves=None,\n",
      "             min_child_weight=None, missing=nan, monotone_constraints=None,\n",
      "             multi_strategy=None, n_estimators=None, n_jobs=None,\n",
      "             num_parallel_tree=None, random_state=0, ...) 0.024623803468561745\n"
     ]
    },
    {
     "name": "stderr",
     "output_type": "stream",
     "text": [
      "Stochastic Optimizer: Maximum iterations (200) reached and the optimization hasn't converged yet.\n"
     ]
    },
    {
     "name": "stdout",
     "output_type": "stream",
     "text": [
      "Self_management MLPRegressor(random_state=0) 0.016815623304637928\n",
      "Self_awareness BayesianRidge() 0.1756068926594181\n",
      "Self_awareness DecisionTreeRegressor(random_state=0) -0.681630883875519\n",
      "Self_awareness KNeighborsRegressor() 0.04045550506860973\n",
      "Self_awareness RandomForestRegressor(random_state=0) 0.16728650334127526\n",
      "Self_awareness SVR() 0.12830945812502903\n",
      "Self_awareness XGBRegressor(base_score=None, booster=None, callbacks=None,\n",
      "             colsample_bylevel=None, colsample_bynode=None,\n",
      "             colsample_bytree=None, device=None, early_stopping_rounds=None,\n",
      "             enable_categorical=False, eval_metric=None, feature_types=None,\n",
      "             gamma=None, grow_policy=None, importance_type=None,\n",
      "             interaction_constraints=None, learning_rate=None, max_bin=None,\n",
      "             max_cat_threshold=None, max_cat_to_onehot=None,\n",
      "             max_delta_step=None, max_depth=None, max_leaves=None,\n",
      "             min_child_weight=None, missing=nan, monotone_constraints=None,\n",
      "             multi_strategy=None, n_estimators=None, n_jobs=None,\n",
      "             num_parallel_tree=None, random_state=0, ...) 0.03815733543873656\n"
     ]
    },
    {
     "name": "stderr",
     "output_type": "stream",
     "text": [
      "Stochastic Optimizer: Maximum iterations (200) reached and the optimization hasn't converged yet.\n"
     ]
    },
    {
     "name": "stdout",
     "output_type": "stream",
     "text": [
      "Self_awareness MLPRegressor(random_state=0) 0.006306036873357512\n",
      "Social_awareness BayesianRidge() 0.11258070321732472\n",
      "Social_awareness DecisionTreeRegressor(random_state=0) -0.8680143942670417\n",
      "Social_awareness KNeighborsRegressor() -0.00019938198619962044\n",
      "Social_awareness RandomForestRegressor(random_state=0) 0.11905606372160538\n",
      "Social_awareness SVR() 0.047171336221891624\n",
      "Social_awareness XGBRegressor(base_score=None, booster=None, callbacks=None,\n",
      "             colsample_bylevel=None, colsample_bynode=None,\n",
      "             colsample_bytree=None, device=None, early_stopping_rounds=None,\n",
      "             enable_categorical=False, eval_metric=None, feature_types=None,\n",
      "             gamma=None, grow_policy=None, importance_type=None,\n",
      "             interaction_constraints=None, learning_rate=None, max_bin=None,\n",
      "             max_cat_threshold=None, max_cat_to_onehot=None,\n",
      "             max_delta_step=None, max_depth=None, max_leaves=None,\n",
      "             min_child_weight=None, missing=nan, monotone_constraints=None,\n",
      "             multi_strategy=None, n_estimators=None, n_jobs=None,\n",
      "             num_parallel_tree=None, random_state=0, ...) 0.010138028315565983\n"
     ]
    },
    {
     "name": "stderr",
     "output_type": "stream",
     "text": [
      "Stochastic Optimizer: Maximum iterations (200) reached and the optimization hasn't converged yet.\n"
     ]
    },
    {
     "name": "stdout",
     "output_type": "stream",
     "text": [
      "Social_awareness MLPRegressor(random_state=0) -0.02906214189526879\n",
      "Relationship_skills BayesianRidge() 0.15201935157789404\n",
      "Relationship_skills DecisionTreeRegressor(random_state=0) -0.7338853832745202\n",
      "Relationship_skills KNeighborsRegressor() 0.004622959780595792\n",
      "Relationship_skills RandomForestRegressor(random_state=0) 0.16164567917184913\n",
      "Relationship_skills SVR() 0.09804977203698428\n",
      "Relationship_skills XGBRegressor(base_score=None, booster=None, callbacks=None,\n",
      "             colsample_bylevel=None, colsample_bynode=None,\n",
      "             colsample_bytree=None, device=None, early_stopping_rounds=None,\n",
      "             enable_categorical=False, eval_metric=None, feature_types=None,\n",
      "             gamma=None, grow_policy=None, importance_type=None,\n",
      "             interaction_constraints=None, learning_rate=None, max_bin=None,\n",
      "             max_cat_threshold=None, max_cat_to_onehot=None,\n",
      "             max_delta_step=None, max_depth=None, max_leaves=None,\n",
      "             min_child_weight=None, missing=nan, monotone_constraints=None,\n",
      "             multi_strategy=None, n_estimators=None, n_jobs=None,\n",
      "             num_parallel_tree=None, random_state=0, ...) 0.03672028768723645\n",
      "Relationship_skills MLPRegressor(random_state=0) 0.022529175064325724\n"
     ]
    },
    {
     "name": "stderr",
     "output_type": "stream",
     "text": [
      "Stochastic Optimizer: Maximum iterations (200) reached and the optimization hasn't converged yet.\n"
     ]
    }
   ],
   "source": [
    "DVs = ['Responsible_decsion_making','Self_management', 'Self_awareness', 'Social_awareness','Relationship_skills']\n",
    "# Define X and y\n",
    "for var in DVs:\n",
    "    X = data_impute.loc[:,'EMOSUPS':'SATJOB']\n",
    "    y = data_impute[var]\n",
    "\n",
    "    # Define training and testing dataset\n",
    "    X_train, X_test, y_train, y_test = train_test_split(X, y, test_size=0.25, random_state=0) #test_size = 0.25\n",
    "\n",
    "    models = [linear_model.BayesianRidge(),DecisionTreeRegressor(random_state=0), KNeighborsRegressor(), RandomForestRegressor(random_state=0), SVR(), xgb.XGBRegressor(random_state = 0), MLPRegressor(random_state = 0)]\n",
    "\n",
    "    for model in models:\n",
    "        regr =  make_pipeline(StandardScaler(), model)\n",
    "        regr.fit(X_train, y_train)\n",
    "        y_pred = regr.predict(X_test)\n",
    "        regr_score = r2_score(y_test, y_pred)\n",
    "        print(var, model, regr_score)"
   ]
  },
  {
   "attachments": {},
   "cell_type": "markdown",
   "metadata": {},
   "source": [
    "Feature selection"
   ]
  },
  {
   "cell_type": "code",
   "execution_count": 58,
   "metadata": {},
   "outputs": [
    {
     "data": {
      "text/plain": [
       "RandomForestRegressor(bootstrap=True, ccp_alpha=0.0, criterion='mse',\n",
       "                      max_depth=None, max_features='auto', max_leaf_nodes=None,\n",
       "                      max_samples=None, min_impurity_decrease=0.0,\n",
       "                      min_impurity_split=None, min_samples_leaf=1,\n",
       "                      min_samples_split=2, min_weight_fraction_leaf=0.0,\n",
       "                      n_estimators=100, n_jobs=None, oob_score=False,\n",
       "                      random_state=0, verbose=0, warm_start=False)"
      ]
     },
     "execution_count": 58,
     "metadata": {},
     "output_type": "execute_result"
    }
   ],
   "source": [
    "X = data_impute.loc[:,'EMOSUPS':'SATJOB']\n",
    "y = data_impute['Responsible_decsion_making'] #Self_management\tSelf_awareness\tSocial_awareness Relationship_skills\n",
    "X_train, X_test, y_train, y_test = train_test_split(X, y, test_size=0.25, random_state=0) #test_size = 0.25\n",
    "\n",
    "# Random Forest model\n",
    "rf = RandomForestRegressor(random_state=0)\n",
    "rf.fit(X_train, y_train)"
   ]
  },
  {
   "cell_type": "code",
   "execution_count": 59,
   "metadata": {},
   "outputs": [],
   "source": [
    "#Feature importance\n",
    "importances = rf.feature_importances_\n",
    "features = X.columns\n",
    "sort_indices = np.argsort(importances)[::-1]\n",
    "length = len(sort_indices) #print out sort_indices\n",
    "\n",
    "#Top feature groups with selecting features\n",
    "mean_scores = []\n",
    "std_scores = []\n",
    "i = 0\n",
    "d = 1\n",
    "while i < 22:\n",
    "    index_name = list(sort_indices[0:i+d])\n",
    "    Xi = X.iloc[:,index_name]\n",
    "    yi = y\n",
    "    Xi_train, Xi_test, yi_train, yi_test = train_test_split(Xi, yi, test_size = 0.25, random_state = 0)\n",
    "    rf.fit(Xi_train,yi_train)\n",
    "\n",
    "    M = np.mean(cross_val_score(rf, Xi_train, yi_train, cv=10, scoring='r2'))\n",
    "    SD = np.std(cross_val_score(rf, Xi_train, yi_train, cv=10, scoring='r2')) \n",
    "\n",
    "    mean_scores.append(M)\n",
    "    std_scores.append(SD)\n",
    "    i+=d\n",
    "\n",
    "Mean = pd.DataFrame(mean_scores).rename(columns={0:'Mean'})\n",
    "SD = pd.DataFrame(std_scores).rename(columns={0:'SD'})\n",
    "result = pd.concat([Mean,SD], axis=1)\n",
    "result.to_csv('22_result.csv')"
   ]
  },
  {
   "cell_type": "code",
   "execution_count": 61,
   "metadata": {},
   "outputs": [],
   "source": [
    "#Feature name\n",
    "topi = 8  #top features\n",
    "num_feature_indices = [i for i in sort_indices[:topi]]\n",
    "num_feature_name = []\n",
    "for f in range(topi):\n",
    "    num_feature_name.append(features[num_feature_indices[f]])\n",
    "\n",
    "importances = np.sort(importances)[::-1] \n",
    "feature_importance = [i for i in importances[:topi]] \n",
    "feature_name = pd. DataFrame (num_feature_name, columns=['feature_name'])\n",
    "feature_importance = pd.DataFrame(feature_importance, columns = ['feature_importance'])\n",
    "top_variable = pd.concat ([feature_name,feature_importance], axis = 1)\n",
    "top_variable.to_csv('top_variables.csv')"
   ]
  },
  {
   "cell_type": "code",
   "execution_count": 56,
   "metadata": {},
   "outputs": [],
   "source": [
    "data_impute[num_feature_name].to_csv('top_variables_value.csv')"
   ]
  }
 ],
 "metadata": {
  "kernelspec": {
   "display_name": "base",
   "language": "python",
   "name": "python3"
  },
  "language_info": {
   "codemirror_mode": {
    "name": "ipython",
    "version": 3
   },
   "file_extension": ".py",
   "mimetype": "text/x-python",
   "name": "python",
   "nbconvert_exporter": "python",
   "pygments_lexer": "ipython3",
   "version": "3.8.9"
  },
  "orig_nbformat": 4,
  "vscode": {
   "interpreter": {
    "hash": "9103a8dd0de6de9d80452aa0081976cdc40662cff9312db6ca9bfa74164b6b88"
   }
  }
 },
 "nbformat": 4,
 "nbformat_minor": 2
}
